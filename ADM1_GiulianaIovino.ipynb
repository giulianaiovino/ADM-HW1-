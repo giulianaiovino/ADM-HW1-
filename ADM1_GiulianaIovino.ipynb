{
 "cells": [
  {
   "cell_type": "markdown",
   "id": "f3fd1407",
   "metadata": {},
   "source": [
    "# ADM HOMEWORK 1\n"
   ]
  },
  {
   "cell_type": "markdown",
   "id": "564fc033",
   "metadata": {},
   "source": [
    "Giuliana Iovino NM 2017512"
   ]
  },
  {
   "cell_type": "markdown",
   "id": "f53f9693-11a0-4c3b-970b-e6ecc79b21bd",
   "metadata": {},
   "source": [
    "# Introduction"
   ]
  },
  {
   "cell_type": "markdown",
   "id": "7b381fa1",
   "metadata": {},
   "source": [
    "#1 Introduction: Say \"Hello, World!\" with Python\n"
   ]
  },
  {
   "cell_type": "code",
   "execution_count": null,
   "id": "e06f6359",
   "metadata": {},
   "outputs": [],
   "source": [
    "if __name__ == '__main__':\n",
    "    print (\"Hello, World!\")"
   ]
  },
  {
   "cell_type": "markdown",
   "id": "815f72e6",
   "metadata": {},
   "source": [
    "#2 Introduction: Python If-Else"
   ]
  },
  {
   "cell_type": "code",
   "execution_count": null,
   "id": "e0e2d435",
   "metadata": {},
   "outputs": [],
   "source": [
    "import os\n",
    "import random\n",
    "import re\n",
    "import sys\n",
    "\n",
    "if __name__ == '__main__':\n",
    "    n = int(input().strip())\n",
    "    if(n >= 1  and n <= 100):\n",
    "        if (n % 2 == 0): \n",
    "            if (n >= 2 and n <= 5):\n",
    "                print(\"Not Weird\")\n",
    "            elif (n >= 6 and n <= 20):\n",
    "                print(\"Weird\")\n",
    "            elif (n >= 20):\n",
    "                print(\"Not Weird\")\n",
    "        else: \n",
    "            print(\"Weird\")\n"
   ]
  },
  {
   "cell_type": "markdown",
   "id": "0a30b5d2",
   "metadata": {},
   "source": [
    "#3 Introduction: Arithmetic Operators"
   ]
  },
  {
   "cell_type": "code",
   "execution_count": null,
   "id": "5a2cf9a1",
   "metadata": {
    "tags": []
   },
   "outputs": [],
   "source": [
    "if __name__ == '__main__':\n",
    "    a = int(input())\n",
    "    b = int(input())\n",
    "    A = a + b\n",
    "    print(A)\n",
    "    B = a - b\n",
    "    print (B)\n",
    "    C = a*b\n",
    "    print(C)"
   ]
  },
  {
   "cell_type": "markdown",
   "id": "7f5738a3-174f-4d3c-94ac-592c8c5af690",
   "metadata": {},
   "source": [
    "#4 Introduction: Python:Division"
   ]
  },
  {
   "cell_type": "code",
   "execution_count": null,
   "id": "e927d474-0bea-45a1-bd2b-d5113a4bc3ca",
   "metadata": {},
   "outputs": [],
   "source": [
    "if __name__ == '__main__':\n",
    "    a = int(input())\n",
    "    b = int(input())\n",
    "    print(a//b)\n",
    "    print(a/b)"
   ]
  },
  {
   "cell_type": "markdown",
   "id": "0902d669-bfc9-4f62-943b-3407b7143458",
   "metadata": {},
   "source": [
    "#5 Introduction: Loops"
   ]
  },
  {
   "cell_type": "code",
   "execution_count": null,
   "id": "04b0d33f-4e66-4eca-8e26-18258f768304",
   "metadata": {},
   "outputs": [],
   "source": [
    "if __name__ == '__main__':\n",
    "    n = int(input())\n",
    "    if (n >= 1 and n <= 20):\n",
    "        for i in range (n):\n",
    "            print(i**2)"
   ]
  },
  {
   "cell_type": "markdown",
   "id": "2ae3a732-0502-4815-b6f4-b774f2ce4577",
   "metadata": {},
   "source": [
    "#6 Introduction: Write a function"
   ]
  },
  {
   "cell_type": "code",
   "execution_count": null,
   "id": "cc58d4a4-1e6a-4714-a8ea-6bb7a249abce",
   "metadata": {},
   "outputs": [],
   "source": [
    "def is_leap(year):\n",
    "    leap = False\n",
    "    if (year>= 1900 and year<= 10**5):\n",
    "        if(year % 400 == 0):\n",
    "            leap = True\n",
    "        elif (year % 100 == 0):\n",
    "            leap= False\n",
    "        elif (year % 4 == 0):\n",
    "            leap = True\n",
    "    return leap\n",
    "\n",
    "if __name__ == '__main__':\n",
    "    year = int(input())\n",
    "    print(is_leap(year))"
   ]
  },
  {
   "cell_type": "markdown",
   "id": "527335ad-7425-4b47-b99e-484ff1f3878b",
   "metadata": {},
   "source": [
    "#7 Introduction: Print Function"
   ]
  },
  {
   "cell_type": "code",
   "execution_count": null,
   "id": "4aa00674-9c63-4965-ad98-9593bdc868b1",
   "metadata": {},
   "outputs": [],
   "source": [
    "if __name__ == '__main__':\n",
    "    n = int(input())\n",
    "    if (n >= 1 and n<=150):\n",
    "        for i in range(n):\n",
    "            print(i+1, end = \"\")"
   ]
  },
  {
   "cell_type": "markdown",
   "id": "79cd0299-315f-424e-90e6-f0df56d3861a",
   "metadata": {},
   "source": [
    "# Data Types"
   ]
  },
  {
   "cell_type": "markdown",
   "id": "d12e63c0-b925-4304-85b9-941248ad8280",
   "metadata": {},
   "source": [
    "#1 Data Types: List Comprehensions"
   ]
  },
  {
   "cell_type": "code",
   "execution_count": null,
   "id": "679d6e1b-63a7-4e98-9a24-825b647b64a3",
   "metadata": {},
   "outputs": [],
   "source": [
    "if __name__ == '__main__':\n",
    "    x = int(input())\n",
    "    y = int(input())\n",
    "    z = int(input())\n",
    "    n = int(input())\n",
    "    I = [i for i in range (x+1)]\n",
    "    J = [j for j in range (y+1)]\n",
    "    K = [k for k in range (z+1)]\n",
    "    perm = [[i,j,k] for i in I for j in J for k in K  if ((i+j+k) != n)]\n",
    "    print(perm)"
   ]
  },
  {
   "cell_type": "markdown",
   "id": "d883d4ed-e73f-4dde-8dce-9e3e7d0aa957",
   "metadata": {},
   "source": [
    "#2 Data Types: Find the Runner-Up Score"
   ]
  },
  {
   "cell_type": "code",
   "execution_count": null,
   "id": "8557ee98-253b-463f-8b88-32a38171f51d",
   "metadata": {},
   "outputs": [],
   "source": [
    "if __name__ == '__main__':\n",
    "    n = int(input())\n",
    "    arr = list(map(int, input().split()))\n",
    "    arr = set(arr)\n",
    "    arr = sorted(arr, reverse = True)\n",
    "    print(arr[1])"
   ]
  },
  {
   "cell_type": "markdown",
   "id": "1cb0dd7c-4148-44b2-9e8a-90f1c37c2cb1",
   "metadata": {},
   "source": [
    "#3 Data Types: Nested List "
   ]
  },
  {
   "cell_type": "code",
   "execution_count": null,
   "id": "f28e3226-ad8a-4c5a-898e-853294f562af",
   "metadata": {},
   "outputs": [],
   "source": [
    "if __name__ == '__main__':\n",
    "    record = []\n",
    "    records = []\n",
    "    second = []\n",
    "    finalnames = []\n",
    "    for i in range(int(input())):\n",
    "        name = input()\n",
    "        score = float(input())\n",
    "        record = [name,score]\n",
    "        records += [record]\n",
    "    second += (records[i][1] for i in range (len(records)))\n",
    "    second = sorted(set(second))[1]\n",
    "    for i in range (len(records)):\n",
    "        if (records[i][1] == second):\n",
    "            finalnames.append(records[i][0])\n",
    "    finalnames = sorted(finalnames)\n",
    "    for i in range(len(finalnames)):\n",
    "        print(finalnames[i])"
   ]
  },
  {
   "cell_type": "markdown",
   "id": "5ef5f98a-b128-44b6-b6a0-7209de7d94c8",
   "metadata": {},
   "source": [
    "#4 Data Types: Finding the percentage"
   ]
  },
  {
   "cell_type": "code",
   "execution_count": null,
   "id": "5079d25c-5506-41b6-a37b-8280713cc2bd",
   "metadata": {},
   "outputs": [],
   "source": [
    "if __name__ == '__main__':\n",
    "    n = int(input())\n",
    "    student_marks = {}\n",
    "    for i in range(n):\n",
    "        name, *line = input().split()\n",
    "        scores = list(map(float, line))\n",
    "        student_marks[name] = scores\n",
    "    query_name = input()\n",
    "    mean = (sum(student_marks[query_name]))/len(student_marks[query_name])\n",
    "    print(format(mean, \".2f\"))"
   ]
  },
  {
   "cell_type": "markdown",
   "id": "a10b8b57-8924-475f-bdaa-cb46bd81c71b",
   "metadata": {},
   "source": [
    "#5 Data Types: Lists"
   ]
  },
  {
   "cell_type": "code",
   "execution_count": null,
   "id": "492828e6-2ed9-40c3-a622-df1046a18693",
   "metadata": {},
   "outputs": [],
   "source": [
    "if __name__ == '__main__':\n",
    "    N = int(input())\n",
    "    mylist = []\n",
    "    for _ in range (N):\n",
    "        myinput = list(input().split())\n",
    "        if(myinput[0]== \"insert\"):\n",
    "            mylist.insert(int(myinput[1]), int(myinput[2]))\n",
    "        elif(myinput[0]== \"print\"):\n",
    "            print(mylist)\n",
    "        elif (myinput[0] == \"remove\"):\n",
    "            mylist.remove(int(myinput[1]))\n",
    "        elif (myinput[0] == \"append\"):\n",
    "            mylist.append(int(myinput[1]))\n",
    "        elif(myinput[0] == \"sort\"):\n",
    "            mylist = sorted(mylist)\n",
    "        elif (myinput[0] == \"pop\"):\n",
    "            mylist.pop()\n",
    "        elif (myinput[0] == \"reverse\"):\n",
    "            mylist.reverse()"
   ]
  },
  {
   "cell_type": "markdown",
   "id": "aab893e1-a022-40eb-b0ef-4754929e9636",
   "metadata": {},
   "source": [
    "#6 Data Types: Tuples"
   ]
  },
  {
   "cell_type": "code",
   "execution_count": null,
   "id": "b4e9c29a-d028-4506-94da-2178abfa23de",
   "metadata": {},
   "outputs": [],
   "source": [
    "if __name__ == '__main__':\n",
    "    n = int(input())\n",
    "    integer_list = map(int, input().split())\n",
    "    integer_list = tuple(integer_list)\n",
    "    print(hash(integer_list))"
   ]
  },
  {
   "cell_type": "markdown",
   "id": "5358abbc-2767-4679-a639-65a9c545f498",
   "metadata": {},
   "source": [
    "# Strings"
   ]
  },
  {
   "cell_type": "markdown",
   "id": "26bcab7b-696c-48a6-be27-7993f50ef0f3",
   "metadata": {},
   "source": [
    "#1 Strings: sWAP cASE"
   ]
  },
  {
   "cell_type": "code",
   "execution_count": null,
   "id": "a58790c0-5fbc-406d-bfd2-ca078727bca1",
   "metadata": {},
   "outputs": [],
   "source": [
    "def swap_case(s):\n",
    "    mys = \"\"\n",
    "    for i in s:\n",
    "        if (i.islower() == True):\n",
    "            mys += i.upper()\n",
    "        elif (i.isupper() == True):\n",
    "            mys += i.lower()\n",
    "        else:\n",
    "            mys += i\n",
    "    return mys\n",
    "\n",
    "if __name__ == '__main__':\n",
    "    s = input()\n",
    "    result = swap_case(s)\n",
    "    print(result)"
   ]
  },
  {
   "cell_type": "markdown",
   "id": "4cdde714-1423-44cf-a783-1d5282273ad6",
   "metadata": {},
   "source": [
    "#2 Strings: String Split and Join"
   ]
  },
  {
   "cell_type": "code",
   "execution_count": null,
   "id": "86381402-e841-48f5-a915-15449718bef1",
   "metadata": {},
   "outputs": [],
   "source": [
    "def split_and_join(line):\n",
    "    return \"-\".join(line.split(\" \"))\n",
    "\n",
    "if __name__ == '__main__':\n",
    "    line = input()\n",
    "    result = split_and_join(line)\n",
    "    print(result)"
   ]
  },
  {
   "cell_type": "markdown",
   "id": "a15336a8-b6fd-4d67-a134-09a50b9b6d42",
   "metadata": {},
   "source": [
    "#3 Strings: What's your name?"
   ]
  },
  {
   "cell_type": "code",
   "execution_count": null,
   "id": "ca5acd89-eb9a-4fbd-8b6a-94e6725233c7",
   "metadata": {},
   "outputs": [],
   "source": [
    "def print_full_name(first, last):\n",
    "    last = last + \"!\"\n",
    "    print(\"Hello\", first, last,\"You just delved into python.\")\n",
    "\n",
    "if __name__ == '__main__':\n",
    "    first_name = input()\n",
    "    last_name = input()\n",
    "    print_full_name(first_name, last_name)"
   ]
  },
  {
   "cell_type": "markdown",
   "id": "04ecd857-69eb-4a4a-9599-4ee1724ce75d",
   "metadata": {},
   "source": [
    "#4 Strings: Mutations"
   ]
  },
  {
   "cell_type": "code",
   "execution_count": null,
   "id": "c65375ce-512f-4be7-8f90-7decb46dc079",
   "metadata": {},
   "outputs": [],
   "source": [
    "def mutate_string(string, position, character):\n",
    "    string = string[:position] + character + string[position+1:]\n",
    "    return string\n",
    "\n",
    "if __name__ == '__main__':\n",
    "    s = input()\n",
    "    i, c = input().split()\n",
    "    s_new = mutate_string(s, int(i), c)\n",
    "    print(s_new)"
   ]
  },
  {
   "cell_type": "markdown",
   "id": "0f76e87f-85df-4a8d-b7fb-097fc1e28f2a",
   "metadata": {},
   "source": [
    "#5 Strings: Find a String"
   ]
  },
  {
   "cell_type": "code",
   "execution_count": null,
   "id": "0c76aff9-f779-4a8e-8db2-67b0cb17b440",
   "metadata": {},
   "outputs": [],
   "source": [
    "def count_substring(string, sub_string):\n",
    "    count = 0\n",
    "    for i in range (len(string)):\n",
    "        if (string[i:].startswith(sub_string)):\n",
    "            count += 1\n",
    "    return count\n",
    "\n",
    "if __name__ == '__main__':\n",
    "    string = input().strip()\n",
    "    sub_string = input().strip()\n",
    "    \n",
    "    count = count_substring(string, sub_string)\n",
    "    print(count)"
   ]
  },
  {
   "cell_type": "markdown",
   "id": "81500547-3c37-472e-b1ff-65db61076e1c",
   "metadata": {},
   "source": [
    "#6 Strings: String Validators"
   ]
  },
  {
   "cell_type": "code",
   "execution_count": null,
   "id": "7d268284-e44d-46e7-8dc8-1856ccbfaff4",
   "metadata": {},
   "outputs": [],
   "source": [
    "if __name__ == '__main__':\n",
    "    s = input()\n",
    "    if (len(s) > 0 and len(s)< 1000):\n",
    "        print(any(i.isalnum() for i in s))\n",
    "        print(any(i.isalpha() for i in s))\n",
    "        print(any(i.isdigit() for i in s))\n",
    "        print(any(i.islower() for i in s))\n",
    "        print(any(i.isupper() for i in s))"
   ]
  },
  {
   "cell_type": "markdown",
   "id": "8d3c2bc1-8664-48a8-b862-52e2ca784ba9",
   "metadata": {},
   "source": [
    "#7 Strings: Text Alignment"
   ]
  },
  {
   "cell_type": "code",
   "execution_count": null,
   "id": "7859d497-710f-44e9-aa69-c67ca8239a59",
   "metadata": {},
   "outputs": [],
   "source": [
    "thickness = int(input())\n",
    "c = 'H'\n",
    "if (0 < thickness < 50 and (thickness % 2 != 0)):\n",
    "    for i in range(thickness):\n",
    "        print((c*i).rjust(thickness-1)+c+(c*i).ljust(thickness-1))\n",
    "\n",
    "    #Top Pillars\n",
    "    for i in range(thickness+1):\n",
    "        print((c*thickness).center(thickness*2)+(c*thickness).center(thickness*6))\n",
    "\n",
    "    #Middle Belt\n",
    "    for i in range((thickness+1)//2):\n",
    "        print((c*thickness*5).center(thickness*6))    \n",
    "\n",
    "    #Bottom Pillars\n",
    "    for i in range(thickness+1):\n",
    "        print((c*thickness).center(thickness*2)+(c*thickness).center(thickness*6))    \n",
    "\n",
    "    #Bottom Cone\n",
    "    for i in range(thickness):\n",
    "        print(((c*(thickness-i-1)).rjust(thickness)+c+(c*(thickness-i-1)).ljust(thickness)).rjust(thickness*6))\n",
    "                \n"
   ]
  },
  {
   "cell_type": "markdown",
   "id": "1e8bf4c0-4169-49ee-9d0a-28027607baac",
   "metadata": {},
   "source": [
    "#8 Strings: Text Wrap"
   ]
  },
  {
   "cell_type": "code",
   "execution_count": null,
   "id": "6fea4742-c885-4f5f-a5fd-56795fae0944",
   "metadata": {},
   "outputs": [],
   "source": [
    "import textwrap\n",
    "\n",
    "def wrap(string, max_width):\n",
    "    if ((len(string)>0 and len(string)<1000) and (max_width > 0 and max_width < len(string))):\n",
    "         newstrings = textwrap.fill(string, width = max_width)\n",
    "    return (newstrings)\n",
    "\n",
    "if __name__ == '__main__':\n",
    "    string, max_width = input(), int(input())\n",
    "    result = wrap(string, max_width)\n",
    "    print(result)"
   ]
  },
  {
   "cell_type": "markdown",
   "id": "452c33b0-1f5c-411d-91c2-f1e7dd8d6c7b",
   "metadata": {},
   "source": [
    "#9 Strings: Designer Door Mat"
   ]
  },
  {
   "cell_type": "code",
   "execution_count": null,
   "id": "6c7df5fe-efd9-4c9d-9806-aa2faa7d21e2",
   "metadata": {},
   "outputs": [],
   "source": [
    "if __name__ == \"__main__\":\n",
    "    N,M = map(int, input().split())\n",
    "    if ((N % 2 != 0) and (N > 5 and N < 101) and (M > 15 and M <303) and (M == 3*N)):\n",
    "        for i in range(1,N,2): \n",
    "            print((i * \".|.\").center(M, \"-\"))\n",
    "        print(\"WELCOME\".center(M,\"-\"))\n",
    "        for i in range(N-2,-1,-2): \n",
    "            print((i * \".|.\").center(M, \"-\"))"
   ]
  },
  {
   "cell_type": "markdown",
   "id": "cb545173-5935-427b-af84-1871cb1f1e3c",
   "metadata": {},
   "source": [
    "#10 Strings: String Formatting"
   ]
  },
  {
   "cell_type": "code",
   "execution_count": null,
   "id": "6c7b8b5e-2b97-4f66-a13b-4021239bf2f3",
   "metadata": {},
   "outputs": [],
   "source": [
    "def print_formatted(number):\n",
    "    if (number >= 1 and number <= 99):\n",
    "        l= len(bin(number)[2:])\n",
    "        for i in range(1, number+1):\n",
    "            print(str(i).rjust(l,' '),end=\" \")\n",
    "            print(oct(i)[2:].rjust(l,' '),end=\" \")\n",
    "            print(((hex(i)[2:]).upper()).rjust(l,' '),end=\" \")\n",
    "            print(bin(i)[2:].rjust(l,' '),end=\" \")\n",
    "            print(\"\")\n",
    "\n",
    "if __name__ == '__main__':\n",
    "    n = int(input())\n",
    "    print_formatted(n)"
   ]
  },
  {
   "cell_type": "markdown",
   "id": "09eeea69-1436-435f-915b-d5b22965388f",
   "metadata": {},
   "source": [
    "#11 Strings: Alphabet Rangoli"
   ]
  },
  {
   "cell_type": "code",
   "execution_count": null,
   "id": "9b7ab4a1-6ad1-44f8-82eb-54e9c84d3d80",
   "metadata": {},
   "outputs": [],
   "source": [
    "import string\n",
    "def print_rangoli(size):\n",
    "    separator = \"-\"\n",
    "    alphabet = (string.ascii_lowercase)\n",
    "    for i in range (1, size +1):\n",
    "        subalphabet = alphabet[:size][::-1]\n",
    "        subalphabet = subalphabet[:i] + subalphabet [:i-1][::-1]\n",
    "        print(separator.join(subalphabet).center(size*4-3, '-'))\n",
    "    for i in range(size-1, 0, -1):\n",
    "        subalphabet = alphabet[:size][::-1]\n",
    "        subalphabet = subalphabet[:i] + subalphabet [:i-1][::-1]\n",
    "        print(separator.join(subalphabet).center(size*4-3, '-'))\n",
    "            \n",
    "if __name__ == '__main__':\n",
    "    n = int(input())\n",
    "    print_rangoli(n)"
   ]
  },
  {
   "cell_type": "markdown",
   "id": "d2568b40-8900-4077-bfbe-f335ee6a7731",
   "metadata": {},
   "source": [
    "#12 Strings: Capitalize "
   ]
  },
  {
   "cell_type": "code",
   "execution_count": null,
   "id": "c355dc9f-af21-4760-a206-729bdb8bc455",
   "metadata": {},
   "outputs": [],
   "source": [
    "import math\n",
    "import os\n",
    "import random\n",
    "import re\n",
    "import sys\n",
    "\n",
    "def solve(s):\n",
    "    news = \"\"\n",
    "    mys = s.split()\n",
    "    for name in mys:\n",
    "        s = s.replace(name,name.capitalize())\n",
    "    return s\n",
    "\n",
    "if __name__ == '__main__':\n",
    "    fptr = sys.stdout\n",
    "\n",
    "    s = input()\n",
    "\n",
    "    result = solve(s)\n",
    "\n",
    "    fptr.write(result + '\\n')\n",
    "\n",
    "    fptr.close()\n"
   ]
  },
  {
   "cell_type": "markdown",
   "id": "f527263d-b4c7-4f91-a7b6-c21b62c82e17",
   "metadata": {},
   "source": [
    "#13 String: The Minion Game"
   ]
  },
  {
   "cell_type": "code",
   "execution_count": null,
   "id": "dd93dbf4-0cc3-4f8f-8e43-e2ccd05652e8",
   "metadata": {},
   "outputs": [],
   "source": [
    "def minion_game(string):\n",
    "        scoreplayer1 = 0\n",
    "        scoreplayer2 = 0\n",
    "        l = len(string)\n",
    "        for i in range (l):\n",
    "            if (string[i] in \"AEIOU\"):\n",
    "                scoreplayer1 += l-i\n",
    "            else:\n",
    "                scoreplayer2 += l-i\n",
    "        if (scoreplayer2>scoreplayer1):\n",
    "            print(\"Stuart\", scoreplayer2)\n",
    "        elif (scoreplayer1>scoreplayer2):\n",
    "            print(\"Kevin\", scoreplayer1)\n",
    "        else:\n",
    "            print(\"Draw\")\n",
    "if __name__ == '__main__':\n",
    "    s = input()\n",
    "    minion_game(s)"
   ]
  },
  {
   "cell_type": "markdown",
   "id": "2334b7b9-e03a-4329-96de-033b56bbf6f0",
   "metadata": {},
   "source": [
    "#14 String: Merge the Tools!"
   ]
  },
  {
   "cell_type": "code",
   "execution_count": null,
   "id": "8ea5a6c2-2c0c-4e81-bc1c-8cc6fcdec8cb",
   "metadata": {},
   "outputs": [],
   "source": [
    "def merge_the_tools(string, k):\n",
    "    for i in range(0,len(string), k):\n",
    "        substrings = string[i:i+k]\n",
    "        mystrings = ''.join([j for i,j in enumerate(substrings) if j not in substrings[:i]])\n",
    "        print(mystrings)\n",
    "\n",
    "if __name__ == '__main__':\n",
    "    string, k = input(), int(input())\n",
    "    merge_the_tools(string, k)"
   ]
  },
  {
   "cell_type": "markdown",
   "id": "2d186ec5-85da-4c84-aab7-0defec25c405",
   "metadata": {},
   "source": [
    "# Sets"
   ]
  },
  {
   "cell_type": "markdown",
   "id": "b95ab922-e6a0-4bfc-9f48-4552d7e61240",
   "metadata": {},
   "source": [
    "#1 Sets: Introduction to Sets"
   ]
  },
  {
   "cell_type": "code",
   "execution_count": null,
   "id": "d761a15f-cbe1-4b5e-b16b-98ba3405497e",
   "metadata": {},
   "outputs": [],
   "source": [
    "def average(array):\n",
    "    plantset = set(array)\n",
    "    averageheight = round(sum(plantset)/len(plantset), 3)\n",
    "    return(averageheight)\n",
    "\n",
    "if __name__ == '__main__':\n",
    "    n = int(input())\n",
    "    arr = list(map(int, input().split()))\n",
    "    result = average(arr)\n",
    "    print(result)"
   ]
  },
  {
   "cell_type": "markdown",
   "id": "de6f3d59-7096-4208-a3df-9bdade6c93aa",
   "metadata": {},
   "source": [
    "#2 Sets: No Idea!"
   ]
  },
  {
   "cell_type": "code",
   "execution_count": null,
   "id": "727ce4e3-1b04-47d7-b8e1-b7e7119ea041",
   "metadata": {},
   "outputs": [],
   "source": [
    "if __name__ == '__main__':\n",
    "    n,m = map(int, input().split())\n",
    "    myarr = list(map(int, input().split()))\n",
    "    A = set(map(int,input().split()))\n",
    "    B = set(map(int,input().split()))\n",
    "    intersection = A.intersection(B)\n",
    "    happiness = 0\n",
    "    if (intersection == set()):\n",
    "        for i in range (n):\n",
    "            if (myarr[i] in A):\n",
    "                happiness += 1\n",
    "            elif (myarr[i] in B):\n",
    "                happiness -= 1\n",
    "            else:\n",
    "                happiness = happiness\n",
    "        print(happiness)"
   ]
  },
  {
   "cell_type": "markdown",
   "id": "91d903cc-eba7-4922-a13e-8f621dd8c96c",
   "metadata": {},
   "source": [
    "#3 Sets: Symmetric Difference "
   ]
  },
  {
   "cell_type": "code",
   "execution_count": null,
   "id": "f0351a5c-b8dc-40eb-96ba-957d9beea8a7",
   "metadata": {},
   "outputs": [],
   "source": [
    "if __name__ == '__main__':\n",
    "    M = int(input())\n",
    "    a = set(map(int, input().split()))\n",
    "    N = int(input())\n",
    "    b = set(map(int, input().split()))\n",
    "    symm_difference = (sorted(a.symmetric_difference(b)))\n",
    "    for i in range (len(symm_difference)):\n",
    "        print(symm_difference[i])"
   ]
  },
  {
   "cell_type": "markdown",
   "id": "eedee1e6-9a3f-43ad-ac19-cf041e044a1c",
   "metadata": {},
   "source": [
    "#4 Sets: Set.add()"
   ]
  },
  {
   "cell_type": "code",
   "execution_count": null,
   "id": "491532d8-9f4a-4df3-8b6a-23f0db633ac2",
   "metadata": {},
   "outputs": [],
   "source": [
    "if __name__ == '__main__':\n",
    "    N = int(input())\n",
    "    countries = []\n",
    "    countries = set(countries)\n",
    "    for i in range(N):\n",
    "        countries.add(input())\n",
    "    print(len(countries))"
   ]
  },
  {
   "cell_type": "markdown",
   "id": "9a285d59-9176-434d-9994-29919a8736d4",
   "metadata": {},
   "source": [
    "#5 Sets: Set.discard(),remove()&.pop()"
   ]
  },
  {
   "cell_type": "code",
   "execution_count": null,
   "id": "c901ae2b-19e9-4a38-b59a-39adc617aca7",
   "metadata": {},
   "outputs": [],
   "source": [
    "n = int(input())\n",
    "s = set(map(int, input().split()))\n",
    "if (all(i <= 9 for i in s) == True):\n",
    "    N = int(input())\n",
    "    if (0< n < 20 and 0 < N < 20):\n",
    "        for i in range (N):\n",
    "            command = list(input().split(' '))\n",
    "            if (command[0] == \"discard\"):\n",
    "                s.discard(int(command[1]))\n",
    "            elif (command[0] == \"remove\"):\n",
    "                s.remove(int(command[1]))\n",
    "            elif (command[0] == \"pop\"):\n",
    "                s.pop()\n",
    "        print(sum(s))\n"
   ]
  },
  {
   "cell_type": "markdown",
   "id": "113fddbc-7bd3-40a4-9170-7dbb0b0c540e",
   "metadata": {},
   "source": [
    "#6 Sets: Set.union()"
   ]
  },
  {
   "cell_type": "code",
   "execution_count": null,
   "id": "d667184a-63bb-4a79-a466-7ca3a2711dbe",
   "metadata": {},
   "outputs": [],
   "source": [
    "if __name__ == '__main__':\n",
    "    n = int(input())\n",
    "    nsenglishnewspaper = set(map(int,input().split()))\n",
    "    b = int(input())\n",
    "    nsfrenchnewspaper = set(map(int, input().split()))\n",
    "    union = nsenglishnewspaper.union(nsfrenchnewspaper)\n",
    "    print(len(union))"
   ]
  },
  {
   "cell_type": "markdown",
   "id": "5f65749a-face-455c-a0f0-7aae7660c8c9",
   "metadata": {},
   "source": [
    "#7 Sets: Set.intersection()"
   ]
  },
  {
   "cell_type": "code",
   "execution_count": null,
   "id": "5841918d-4fba-4cab-8e40-660150330476",
   "metadata": {},
   "outputs": [],
   "source": [
    "if __name__ == '__main__':\n",
    "    n = int(input())\n",
    "    nsenglishnewspaper = set(map(int,input().split()))\n",
    "    b = int(input())\n",
    "    nsfrenchnewspaper = set(map(int, input().split()))\n",
    "    intersection = nsenglishnewspaper.intersection(nsfrenchnewspaper)\n",
    "    print(len(intersection))"
   ]
  },
  {
   "cell_type": "markdown",
   "id": "017d4d87-e3f0-4b51-a3a3-1a70c5d05f94",
   "metadata": {},
   "source": [
    "#8 Sets: Set.difference()"
   ]
  },
  {
   "cell_type": "code",
   "execution_count": null,
   "id": "10fc1575-154e-4797-96d5-e1ca9e8d32bd",
   "metadata": {},
   "outputs": [],
   "source": [
    "if __name__ == '__main__':\n",
    "    n = int(input())\n",
    "    nsenglishnewspaper = set(map(int,input().split()))\n",
    "    b = int(input())\n",
    "    nsfrenchnewspaper = set(map(int, input().split()))\n",
    "    difference = nsenglishnewspaper.difference(nsfrenchnewspaper)\n",
    "    print(len(difference))"
   ]
  },
  {
   "cell_type": "markdown",
   "id": "17e9fa92-c115-40e8-8f92-23b6f1a851aa",
   "metadata": {},
   "source": [
    "#9 Sets: Set .symmetric_difference() Operation"
   ]
  },
  {
   "cell_type": "code",
   "execution_count": null,
   "id": "05b00977-cb87-40b6-b8ca-65e7da7e669f",
   "metadata": {},
   "outputs": [],
   "source": [
    "if __name__ == '__main__':\n",
    "    n = int(input())\n",
    "    nsenglishnewspaper = set(map(int,input().split()))\n",
    "    b = int(input())\n",
    "    nsfrenchnewspaper = set(map(int, input().split()))\n",
    "    symmetric_difference = nsenglishnewspaper.symmetric_difference(nsfrenchnewspaper)\n",
    "    print(len(symmetric_difference))"
   ]
  },
  {
   "cell_type": "markdown",
   "id": "92b57eca-d6d7-4347-b4d1-0ca12e1bc919",
   "metadata": {},
   "source": [
    "#10 Sets: Set Mutations"
   ]
  },
  {
   "cell_type": "code",
   "execution_count": null,
   "id": "dd738a26-1d0e-45c3-ae45-e875e1491ba2",
   "metadata": {},
   "outputs": [],
   "source": [
    "lenghtA = int(input())\n",
    "A = set(map(int, input().split()))\n",
    "N = int(input())\n",
    "if (N > 0 and N < 100 and lenghtA > 0 and lenghtA < 1000):\n",
    "    for i in range(N):\n",
    "        command = input().split()\n",
    "        if (int(command[1])> 0 and int(command[1])<100):\n",
    "            if (command[0] == \"intersection_update\"):\n",
    "                newset = set(map(int, input().split()))\n",
    "                A.intersection_update(newset)\n",
    "            elif (command[0] == \"update\"):\n",
    "                newset = set(map(int, input().split()))\n",
    "                A.update(newset)\n",
    "            elif (command[0] == \"symmetric_difference_update\"):\n",
    "                newset = set(map(int, input().split()))\n",
    "                A.symmetric_difference_update(newset)\n",
    "            elif (command[0] == \"difference_update\"):\n",
    "                newset = set(map(int, input().split()))\n",
    "                A.difference_update(newset)\n",
    "    print(sum(A))\n"
   ]
  },
  {
   "cell_type": "markdown",
   "id": "3204b854-6128-4fb7-9251-8c16b1cae6ec",
   "metadata": {},
   "source": [
    "#11 Sets: The Captain's Room"
   ]
  },
  {
   "cell_type": "code",
   "execution_count": null,
   "id": "748209a4-9c65-4e69-9ad5-8d5bb11f03f4",
   "metadata": {},
   "outputs": [],
   "source": [
    "if __name__ == '__main__':\n",
    "    K = int(input())\n",
    "    rooms = list(map(int,input().split()))\n",
    "    rooms = sorted(rooms)\n",
    "    a = [rooms[i] for i in range (len(rooms)) if (i % 2 == 0)]\n",
    "    b = [rooms[i] for i in range (len(rooms)) if (i % 2 != 0)]\n",
    "    a = set(a)\n",
    "    b = set(b)\n",
    "    capitainsroom = list(a.symmetric_difference(b))\n",
    "    print (int((capitainsroom[0])))"
   ]
  },
  {
   "cell_type": "markdown",
   "id": "46f1df8b-a6c4-46b8-8a56-339b71f5063b",
   "metadata": {},
   "source": [
    "#12 Sets: Check Subset"
   ]
  },
  {
   "cell_type": "code",
   "execution_count": null,
   "id": "555e3c7b-8360-4c33-9427-a62fd1891bcf",
   "metadata": {},
   "outputs": [],
   "source": [
    "if __name__ == '__main__':\n",
    "    T = int(input())\n",
    "    for _ in range (T):\n",
    "        n = int(input())\n",
    "        A = set(map(int,input().split()))\n",
    "        m = int(input())\n",
    "        B = set(map(int,input().split()))\n",
    "        print(A.issubset(B))"
   ]
  },
  {
   "cell_type": "markdown",
   "id": "a5940907-feec-4787-a0ed-9764a3ed9e84",
   "metadata": {},
   "source": [
    "#13 Sets: Check Strict Superset"
   ]
  },
  {
   "cell_type": "code",
   "execution_count": null,
   "id": "ef748842-e89a-469e-8886-939e2ff0bc13",
   "metadata": {},
   "outputs": [],
   "source": [
    "if __name__ == '__main__':\n",
    "    A = set(map(int,input().split()))\n",
    "    results = list()\n",
    "    N = int(input())\n",
    "    for i in range (N):\n",
    "        newset = set(map(int, input().split()))\n",
    "        results.insert(i, A.issuperset(newset))\n",
    "    if(all (i for i in results) == True ):\n",
    "        print (True)\n",
    "    else:\n",
    "        print(False)\n"
   ]
  },
  {
   "cell_type": "markdown",
   "id": "0985432a-5150-422a-8919-cc7c5cdecf1b",
   "metadata": {},
   "source": [
    "# Collections"
   ]
  },
  {
   "cell_type": "markdown",
   "id": "619053fb-8b3b-451d-99c3-14b39c12eeff",
   "metadata": {},
   "source": [
    "#1 Collections: collections.Counter()"
   ]
  },
  {
   "cell_type": "code",
   "execution_count": null,
   "id": "0e406eca-b70e-4ac4-b9c2-72159301b719",
   "metadata": {},
   "outputs": [],
   "source": [
    "from collections import Counter\n",
    "\n",
    "if __name__ == '__main__':\n",
    "    X = int(input())\n",
    "    shoessizes = map(int,input().split())\n",
    "    collection = Counter(shoessizes)\n",
    "    money = 0\n",
    "    N = int(input())\n",
    "    for i in range(N):\n",
    "        size, price = map(int, input().split())\n",
    "        if (collection.get(size)):\n",
    "            money += price\n",
    "            collection[size] -= 1\n",
    "    print(money)\n"
   ]
  },
  {
   "cell_type": "markdown",
   "id": "ce44ae9a-b70a-491a-9bb7-3857d7570449",
   "metadata": {},
   "source": [
    "#2 Collections: DefaultDict Tutorial "
   ]
  },
  {
   "cell_type": "code",
   "execution_count": null,
   "id": "2230def5-2295-4c0b-9f07-9bfe48a0c247",
   "metadata": {},
   "outputs": [],
   "source": [
    "from collections import defaultdict\n",
    "if __name__ == '__main__':\n",
    "    n, m = map(int,input().split())\n",
    "    A = defaultdict(list)\n",
    "    B = []\n",
    "    for i in range(n):\n",
    "        A[input()].append(i+1) \n",
    "    for i in range(m):\n",
    "        B=B+[input()]  \n",
    "    for i in B: \n",
    "        if i in A:\n",
    "            print (\" \".join( map(str,A[i])))\n",
    "        else:\n",
    "            print (-1)"
   ]
  },
  {
   "cell_type": "markdown",
   "id": "5ce1b9bd-1053-46cc-92c6-a89aaf1ad769",
   "metadata": {},
   "source": [
    "#3 Collections: Collections.namedtuple()"
   ]
  },
  {
   "cell_type": "code",
   "execution_count": null,
   "id": "25127aab-1e54-47ae-ad60-f614557a79b3",
   "metadata": {},
   "outputs": [],
   "source": [
    "from collections import namedtuple\n",
    "\n",
    "if __name__ == '__main__':\n",
    "    N = int(input())\n",
    "    characteristic = input().split()\n",
    "    totmarks = 0\n",
    "    for i in range (N):\n",
    "        student = namedtuple('student', characteristic)\n",
    "        MARKS, CLASS, NAME, ID = input().split()\n",
    "        student = student(MARKS, CLASS, NAME, ID )\n",
    "        totmarks += int(student.MARKS)\n",
    "    average = totmarks/N\n",
    "    print(average)"
   ]
  },
  {
   "cell_type": "markdown",
   "id": "d8cdad74-c9a6-407d-bba1-fc995af79d6d",
   "metadata": {},
   "source": [
    "#4 Collections: Collections.OrderedDict()"
   ]
  },
  {
   "cell_type": "code",
   "execution_count": null,
   "id": "dac64f58-cb8b-4ffa-be61-768383f0ef41",
   "metadata": {},
   "outputs": [],
   "source": [
    "from collections import OrderedDict\n",
    "if __name__ == '__main__':\n",
    "    N = int(input())\n",
    "    ordered_dictionary = OrderedDict()\n",
    "    for i in range(N):\n",
    "        item = input().split()\n",
    "        price = int(item[-1])\n",
    "        name = \" \".join(item[:-1])\n",
    "        if ordered_dictionary.get(name):\n",
    "            ordered_dictionary[name] += price\n",
    "        else:\n",
    "            ordered_dictionary[name] = price\n",
    "    for i,j in ordered_dictionary.items():\n",
    "        print(i,j)"
   ]
  },
  {
   "cell_type": "markdown",
   "id": "6410af25-6c5a-433b-b992-89b08697f987",
   "metadata": {},
   "source": [
    "#5 Collections: Word Order "
   ]
  },
  {
   "cell_type": "code",
   "execution_count": null,
   "id": "f8c36fa4-d4f7-4912-8d77-9a7550705ecc",
   "metadata": {},
   "outputs": [],
   "source": [
    "from collections import OrderedDict\n",
    "if __name__ == '__main__':\n",
    "    N = int(input())\n",
    "    ordered_dictionary = OrderedDict()\n",
    "    for i in range (N):\n",
    "        word = input()\n",
    "        if word in ordered_dictionary:\n",
    "            ordered_dictionary[word] += 1\n",
    "        else:\n",
    "            ordered_dictionary[word] = 1\n",
    "    print(len(ordered_dictionary))\n",
    "    output = (list(ordered_dictionary.values()))\n",
    "    for i in output:\n",
    "        print(i, end = \" \")"
   ]
  },
  {
   "cell_type": "markdown",
   "id": "f70200dd-511e-437c-a8d2-23b3c74a531f",
   "metadata": {},
   "source": [
    "#6 Collections: Collections.deque()"
   ]
  },
  {
   "cell_type": "code",
   "execution_count": null,
   "id": "1a692bb4-da24-45ec-88b1-7a3ef0920ad3",
   "metadata": {},
   "outputs": [],
   "source": [
    "from collections import deque\n",
    "if __name__ == '__main__':\n",
    "    N = int(input())\n",
    "    myd = deque()\n",
    "    for i in range (N):\n",
    "        myinput = list(input().split())\n",
    "        if(myinput[0]== \"append\"):\n",
    "            myd.append(int(myinput[1]))\n",
    "        elif (myinput[0] == \"appendleft\"):\n",
    "            myd.appendleft(int(myinput[1]))\n",
    "        elif(myinput[0] == \"pop\"):\n",
    "            myd.pop()\n",
    "        elif (myinput[0] == \"popleft\"):\n",
    "            myd.popleft()\n",
    "    output = list(myd)\n",
    "    for i in output:\n",
    "        print(i, end = \" \")"
   ]
  },
  {
   "cell_type": "markdown",
   "id": "5f367e4e-5cdd-4f9a-b671-92d4093cf143",
   "metadata": {},
   "source": [
    "#7 Collections: Company Logo"
   ]
  },
  {
   "cell_type": "code",
   "execution_count": null,
   "id": "fad5c1c0-03c1-49f0-b1a4-811f0127fd83",
   "metadata": {},
   "outputs": [],
   "source": [
    "import math\n",
    "import os\n",
    "import random\n",
    "import re\n",
    "import sys\n",
    "import collections\n",
    "\n",
    "if __name__ == '__main__':\n",
    "    s = input()\n",
    "    counter = collections.Counter(s)\n",
    "    counter = sorted(counter.items(), key=lambda x: (-x[1], x[0]))\n",
    "    for i in range (3):\n",
    "        print(counter[i][0], counter[i][1]"
   ]
  },
  {
   "cell_type": "markdown",
   "id": "9976baa2-33fc-4bd8-a80d-a07b2be961ee",
   "metadata": {},
   "source": [
    "#8 Collections: Piling Up!"
   ]
  },
  {
   "cell_type": "code",
   "execution_count": null,
   "id": "cf5a3573-4b34-47ec-8573-07a7e9677f05",
   "metadata": {},
   "outputs": [],
   "source": [
    "if __name__ == '__main__':\n",
    "    for t in range(int(input())):\n",
    "        input()\n",
    "        lst = [int(i) for i in input().split()]\n",
    "        min_list = lst.index(min(lst))\n",
    "        left = lst[:min_list]\n",
    "        right = lst[min_list+1:]\n",
    "        if left == sorted(left,reverse=True) and right == sorted(right):\n",
    "            print(\"Yes\")\n",
    "        else:\n",
    "            print(\"No\")"
   ]
  },
  {
   "cell_type": "markdown",
   "id": "da45b9c8-5567-4337-9c05-986727189b21",
   "metadata": {},
   "source": [
    "# Data and Time"
   ]
  },
  {
   "cell_type": "markdown",
   "id": "ba6f7bbd-4d42-4b7c-899c-8d26a4f5e858",
   "metadata": {},
   "source": [
    "#1 Data and Time: Calendar Module"
   ]
  },
  {
   "cell_type": "code",
   "execution_count": null,
   "id": "7075d8a6-a3d1-4ed8-bbe9-4a7d75d02706",
   "metadata": {},
   "outputs": [],
   "source": [
    "import calendar\n",
    "\n",
    "if __name__ == '__main__':\n",
    "    month,day,year = map(int,input().split())\n",
    "    weekday= calendar.weekday(year,month,day)\n",
    "    days = ['MONDAY','TUESDAY','WEDNESDAY','THURSDAY','FRIDAY','SATURDAY','SUNDAY']\n",
    "    print(days[weekday])\n"
   ]
  },
  {
   "cell_type": "markdown",
   "id": "51450c44-b12e-4cfc-8dc3-5db8d7015df5",
   "metadata": {},
   "source": [
    "#2 Data and Time: Time Delta"
   ]
  },
  {
   "cell_type": "code",
   "execution_count": null,
   "id": "93e0c6f2-31bd-4e4d-8718-a1c6cc401f59",
   "metadata": {},
   "outputs": [],
   "source": [
    "import math\n",
    "import os\n",
    "import random\n",
    "import re\n",
    "import sys\n",
    "\n",
    "from datetime import datetime\n",
    "\n",
    "def time_delta(t1, t2):\n",
    "    t1 = datetime.strptime(t1, '%a %d %b %Y %H:%M:%S %z')\n",
    "    t2 = datetime.strptime(t2, '%a %d %b %Y %H:%M:%S %z')\n",
    "    difference = (t2-t1)\n",
    "    return(str(abs(int(difference.total_seconds()))))\n",
    "\n",
    "if __name__ == '__main__':\n",
    "    fptr = sys.stdout\n",
    "\n",
    "    t = int(input())\n",
    "\n",
    "    for t_itr in range(t):\n",
    "        t1 = input()\n",
    "\n",
    "        t2 = input()\n",
    "\n",
    "        delta = time_delta(t1, t2)\n",
    "\n",
    "        fptr.write(delta + '\\n')\n",
    "\n",
    "    fptr.close()"
   ]
  },
  {
   "cell_type": "markdown",
   "id": "62610016-7024-4eb9-95a2-d4544ba6cda6",
   "metadata": {},
   "source": [
    "# Exceptions"
   ]
  },
  {
   "cell_type": "markdown",
   "id": "1e566b06-bb66-4f78-94af-9adcecc0df5d",
   "metadata": {},
   "source": [
    "#1 Exceptions: Exceptions"
   ]
  },
  {
   "cell_type": "code",
   "execution_count": null,
   "id": "8e41f87e-2536-40de-8980-e9afc35e0442",
   "metadata": {},
   "outputs": [],
   "source": [
    "if __name__ == '__main__':\n",
    "    T = int(input())\n",
    "    for i in range(T):\n",
    "        a,b = input().split()\n",
    "        try:\n",
    "            division = (int(a)//int(b))\n",
    "            print(division)\n",
    "        except ZeroDivisionError as e:\n",
    "            print ('Error Code:', e)\n",
    "        except ValueError as f:\n",
    "            print ('Error Code:', f)"
   ]
  },
  {
   "cell_type": "markdown",
   "id": "83e1b737-56cf-4413-8875-9ba687908a5d",
   "metadata": {},
   "source": [
    "# Built-Ins"
   ]
  },
  {
   "cell_type": "markdown",
   "id": "e120ba08-04e4-45fc-96dc-872c57fbac89",
   "metadata": {},
   "source": [
    "#1 Built-ins: Zipped!"
   ]
  },
  {
   "cell_type": "code",
   "execution_count": null,
   "id": "ea05ba1e-dc2a-47e4-94c3-eb54f161f598",
   "metadata": {},
   "outputs": [],
   "source": [
    "if __name__ == '__main__':\n",
    "    N, X = map(int, input().split())\n",
    "    mylist = []\n",
    "    for i in range (X):\n",
    "        scores = list(map(float, input().split()))\n",
    "        mylist.append(scores)\n",
    "    mylist = list(zip(*mylist))\n",
    "    for i in mylist:\n",
    "        print(sum(i)/len(i))"
   ]
  },
  {
   "cell_type": "markdown",
   "id": "de035438-f443-4dd3-8387-43cb9bb67f7b",
   "metadata": {},
   "source": [
    "#2 Built-ins: Athlete Sort "
   ]
  },
  {
   "cell_type": "code",
   "execution_count": null,
   "id": "3f550736-b86a-4e3f-896a-f989bc7a1b7e",
   "metadata": {},
   "outputs": [],
   "source": [
    "import math\n",
    "import os\n",
    "import random\n",
    "import re\n",
    "import sys\n",
    "\n",
    "\n",
    "\n",
    "if __name__ == '__main__':\n",
    "    nm = input().split()\n",
    "    n = int(nm[0])\n",
    "    m = int(nm[1])\n",
    "    arr = []\n",
    "    for _ in range(n):\n",
    "        arr.append(list(map(int, input().rstrip().split())))\n",
    "    k = int(input())\n",
    "    if (k >=0 and k<m):\n",
    "        arr.sort(key=lambda row:row[k])\n",
    "        for m in arr:\n",
    "            print(*m)"
   ]
  },
  {
   "cell_type": "markdown",
   "id": "54b3a54e-f03b-4ab8-9699-13971bab293f",
   "metadata": {},
   "source": [
    "#3 Built-ins: ginortS"
   ]
  },
  {
   "cell_type": "code",
   "execution_count": null,
   "id": "380648a4-7446-4280-b793-bdfbf65ec3c3",
   "metadata": {},
   "outputs": [],
   "source": [
    "if __name__ == '__main__':\n",
    "    S = input()\n",
    "    lowercases = \"\"\n",
    "    uppercases = \"\"\n",
    "    odd = \"\"\n",
    "    even = \"\"\n",
    "    for i in S:\n",
    "        if (i.islower() == True):\n",
    "            lowercases += i\n",
    "        elif (i.isupper() == True):\n",
    "            uppercases += i\n",
    "        elif (i.isdigit() == True):\n",
    "            if (int(i) % 2 != 0):\n",
    "                odd += i\n",
    "            else:\n",
    "                even += i\n",
    "    lowercases = sorted(lowercases)\n",
    "    lowercases = \"\".join(lowercases)\n",
    "    uppercases = sorted(uppercases)\n",
    "    uppercases = \"\".join(uppercases)\n",
    "    odd = sorted(odd)\n",
    "    odd = \"\".join(odd)\n",
    "    even = sorted(even)\n",
    "    even = \"\".join(even)\n",
    "    mystring = lowercases+uppercases+odd+even\n",
    "    print(mystring)"
   ]
  },
  {
   "cell_type": "markdown",
   "id": "e79fd693-228b-4e41-bdfa-0dd43a6c9b67",
   "metadata": {},
   "source": [
    "# Python Functionals"
   ]
  },
  {
   "cell_type": "markdown",
   "id": "b6249da0-8f71-407c-b718-7febf446cdeb",
   "metadata": {},
   "source": [
    "#1 Python Functionals: Map and Lambda Function"
   ]
  },
  {
   "cell_type": "code",
   "execution_count": null,
   "id": "f49c2c6c-7a79-4069-af99-7cda1cbbb2c2",
   "metadata": {},
   "outputs": [],
   "source": [
    "cube = lambda x: x**3\n",
    "\n",
    "def fibonacci(n):\n",
    "    series = [0,1]\n",
    "    for i in range(2,n):\n",
    "        series.append(series[i-1]+series[i-2])\n",
    "    return(series[0:n])\n",
    "        \n",
    "\n",
    "if __name__ == '__main__':\n",
    "    n = int(input())\n",
    "    print(list(map(cube, fibonacci(n))))"
   ]
  },
  {
   "cell_type": "markdown",
   "id": "895c0dd0-9c69-4b69-8c87-901550920a7e",
   "metadata": {},
   "source": [
    "# Regex and Parsing challenges"
   ]
  },
  {
   "cell_type": "markdown",
   "id": "52970bd0-f502-459d-9e5a-f03412fbd250",
   "metadata": {},
   "source": [
    "#1 Regex and Parsing Challenges: Detect Floating Point Number"
   ]
  },
  {
   "cell_type": "code",
   "execution_count": null,
   "id": "3c8d5740-0ad2-49d0-b5ac-6ede06c0d00c",
   "metadata": {},
   "outputs": [],
   "source": [
    "import re\n",
    "if __name__ == '__main__':\n",
    "    T = int(input())\n",
    "    for i in range (T):\n",
    "        string = str(input())\n",
    "        print (bool(re.search(r'^[+-]?[0-9]*\\.[0-9]+$', string)))"
   ]
  },
  {
   "cell_type": "markdown",
   "id": "09a6d507-551f-4a7f-a8a8-ed3dadec28b2",
   "metadata": {},
   "source": [
    "#2 Regex and Parsing Challenges:Re.split()"
   ]
  },
  {
   "cell_type": "code",
   "execution_count": null,
   "id": "6c74ec50-89e6-44c5-9ff9-a379a5fee95d",
   "metadata": {},
   "outputs": [],
   "source": [
    "regex_pattern = r\"[.,]+\"\n",
    "\n",
    "import re\n",
    "print(\"\\n\".join(re.split(regex_pattern, input())))"
   ]
  },
  {
   "cell_type": "markdown",
   "id": "5a987c1a-f150-4351-a778-5740db39eedc",
   "metadata": {},
   "source": [
    "#3 Regex and Parsing Challenges: Group(), Groups() & Groupdict()"
   ]
  },
  {
   "cell_type": "code",
   "execution_count": null,
   "id": "de4bd34c-28dc-4c84-a395-ee44c027e80e",
   "metadata": {},
   "outputs": [],
   "source": [
    "import re\n",
    "if __name__ == '__main__':\n",
    "    S = str(input())\n",
    "    s = re.search(r'([A-Za-z0-9])\\1+',S)\n",
    "    if s:\n",
    "        print(s.group(1))\n",
    "    else:\n",
    "        print(-1)"
   ]
  },
  {
   "cell_type": "markdown",
   "id": "eecb43f3-47a1-4fd6-ab20-361d27d746fe",
   "metadata": {},
   "source": [
    "#4 Regex and Parsing Challenges: Re.findall() & Re.finditer()"
   ]
  },
  {
   "cell_type": "code",
   "execution_count": null,
   "id": "8540b857-bb46-44d4-ae9c-ee73ec49c6ee",
   "metadata": {},
   "outputs": [],
   "source": [
    "import re\n",
    "if __name__ == '__main__':\n",
    "    S = str(input())\n",
    "    S = re.findall(r'(?<=[^aeiouAEIOU ])[aeiouAEIOU]{2,}(?=[^aeiouAEIOU ])', S)\n",
    "    if S:\n",
    "        for i in S:\n",
    "            print(i)\n",
    "    else:\n",
    "        print(-1)"
   ]
  },
  {
   "cell_type": "markdown",
   "id": "37022c66-2662-4602-a60d-e3224482f124",
   "metadata": {},
   "source": [
    "#5 Regex and Parsing Challenges: Re.start()&Re.end()"
   ]
  },
  {
   "cell_type": "code",
   "execution_count": null,
   "id": "0e6c26dc-583c-419a-a4a5-f572eef3d230",
   "metadata": {},
   "outputs": [],
   "source": [
    "import re\n",
    "if __name__ == '__main__':\n",
    "    S = input()\n",
    "    k = input()\n",
    "    m = (re.finditer(r'(?=(' + k + '))', S))\n",
    "    m = list(m)\n",
    "    if m:\n",
    "        for i in m:\n",
    "            output1 = (i.start(1), i.end(1)-1)\n",
    "            print(tuple(output1))\n",
    "    else:\n",
    "        print((-1,-1))"
   ]
  },
  {
   "cell_type": "markdown",
   "id": "64af554c-a107-452f-a77c-c143d4554001",
   "metadata": {},
   "source": [
    "#6 Regex and Parsing Challenges: Regex Substitution"
   ]
  },
  {
   "cell_type": "code",
   "execution_count": null,
   "id": "7a1d98c8-813c-4ecc-9700-aa318482d1ab",
   "metadata": {},
   "outputs": [],
   "source": [
    "import re\n",
    "if __name__ == '__main__':\n",
    "    N = int(input())\n",
    "    for i in range(N):\n",
    "        print(re.sub(r'(?<= )(&&|\\|\\|)(?= )', lambda x: 'and' if x.group() == '&&' else 'or', input()))"
   ]
  },
  {
   "cell_type": "markdown",
   "id": "9f43ff6b-c6fd-4a23-896d-bbca9b119d55",
   "metadata": {},
   "source": [
    "#7 Regex and Parsing Challenges: Validating Roman Numerals"
   ]
  },
  {
   "cell_type": "code",
   "execution_count": null,
   "id": "33e3e9ca-61d0-41f0-a9df-6f112dfeef70",
   "metadata": {},
   "outputs": [],
   "source": [
    "regex_pattern = r'M{0,3}(C[MD]|D?C{0,3})(X[CL]|L?X{0,3})(I[VX]|V?I{0,3})$'\n",
    "\n",
    "import re\n",
    "print(str(bool(re.match(regex_pattern, input()))))"
   ]
  },
  {
   "cell_type": "markdown",
   "id": "98b96d12-5f7f-4a57-aa2d-3ac8de488fe3",
   "metadata": {},
   "source": [
    "#8 Regex and Parsing Challenges: Validating and Parsing Email Addresses"
   ]
  },
  {
   "cell_type": "code",
   "execution_count": null,
   "id": "5060fe81-539e-421e-b67e-345e51117fce",
   "metadata": {},
   "outputs": [],
   "source": [
    "import re\n",
    "if __name__ == '__main__':\n",
    "    n = int(input())\n",
    "    for i in range(n):\n",
    "        name,email = input().split()\n",
    "        output = bool(re.search(r'<[A-Za-z](\\w|-|\\.|_)+@[A-Za-z]+\\.[A-Za-z]{1,3}>',email))    \n",
    "        if (output == True):\n",
    "            print(name,email)"
   ]
  },
  {
   "cell_type": "markdown",
   "id": "6da4f838-16ba-426e-99f3-3ab1369c2d6e",
   "metadata": {},
   "source": [
    "#9 Regex and Parsing Challenges: Hex Color Code"
   ]
  },
  {
   "cell_type": "code",
   "execution_count": null,
   "id": "8d9cdeef-0bf3-4f89-9ea8-4142f562963e",
   "metadata": {},
   "outputs": [],
   "source": [
    "import re\n",
    "if __name__ == '__main__':\n",
    "    N = int(input())\n",
    "    for _ in range(N):\n",
    "        line = input()\n",
    "        m = re.findall(r':?.(#[0-9a-fA-F]{6}|#[0-9a-fA-F]{3})', line)\n",
    "        for i in m:\n",
    "            print(i)"
   ]
  },
  {
   "cell_type": "markdown",
   "id": "0caba4f4-2fca-4ecb-8adf-b1dd8c12cad9",
   "metadata": {},
   "source": [
    "#10 Regex and Parsing Challenges: HTML Parser - Part1 "
   ]
  },
  {
   "cell_type": "code",
   "execution_count": null,
   "id": "ff24c763-19d1-4c9c-b659-7c1fcd8cfd04",
   "metadata": {},
   "outputs": [],
   "source": [
    "from html.parser import HTMLParser\n",
    "\n",
    "class MyHTMLParser(HTMLParser):\n",
    "    def handle_starttag(self, tag, attrs):        \n",
    "        print ('Start :',tag)\n",
    "        for i in attrs:\n",
    "            print ('->',i[0],'>',i[1])\n",
    "            \n",
    "    def handle_endtag(self, tag):\n",
    "        print ('End   :',tag)\n",
    "        \n",
    "    def handle_startendtag(self, tag, attrs):\n",
    "        print ('Empty :',tag)\n",
    "        for i in attrs:\n",
    "            print ('->',i[0],'>',i[1])\n",
    "            \n",
    "MyParser = MyHTMLParser()\n",
    "MyParser.feed(''.join([input().strip() for _ in range(int(input()))]))\n"
   ]
  },
  {
   "cell_type": "markdown",
   "id": "3487cd88-30c1-4e6f-b097-c9fbba817332",
   "metadata": {},
   "source": [
    "#11 Regex and Parsing Challenges: HTML Parser - Part2 "
   ]
  },
  {
   "cell_type": "code",
   "execution_count": null,
   "id": "c5e18259-bf12-4c9a-a408-8c5d18a6fc46",
   "metadata": {},
   "outputs": [],
   "source": [
    "from html.parser import HTMLParser\n",
    "\n",
    "class MyHTMLParser(HTMLParser):\n",
    "    def handle_comment(self, data):\n",
    "        if (len(data.split('\\n')) != 1):\n",
    "            print(\">>> Multi-line Comment\")\n",
    "        else:\n",
    "            print(\">>> Single-line Comment\")\n",
    "        print(data.replace(\"\\r\", \"\\n\"))\n",
    "    def handle_data(self, data):\n",
    "        if data.strip():\n",
    "            print(\">>> Data\")\n",
    "            print(data)\n",
    "\n",
    "  \n",
    "html = \"\"       \n",
    "for i in range(int(input())):\n",
    "    html += input().rstrip()\n",
    "    html += '\\n'\n",
    "    \n",
    "parser = MyHTMLParser()\n",
    "parser.feed(html)\n",
    "parser.close()\n"
   ]
  },
  {
   "cell_type": "markdown",
   "id": "af60163e-645d-44e1-8002-a37e38e934ce",
   "metadata": {},
   "source": [
    "#12 Regex and Parsing Challenges: Detect HTML Tags, Attributes and Attribute Values"
   ]
  },
  {
   "cell_type": "code",
   "execution_count": null,
   "id": "c0780c47-9c6d-4229-adf6-44e3444f3015",
   "metadata": {},
   "outputs": [],
   "source": [
    "from html.parser import HTMLParser\n",
    "\n",
    "class MyHTMLParser(HTMLParser):\n",
    "    def handle_starttag(self, tag, attrs):\n",
    "        print(tag)\n",
    "        for at in attrs:\n",
    "            print(\"-> {} > {}\".format(at[0], at[1]))\n",
    "    def handle_startendtag(self, tag, attrs):\n",
    "        print(tag)\n",
    "        for at in attrs:\n",
    "            print(\"-> {} > {}\".format(at[0], at[1]))\n",
    "\n",
    "html = \"\"\n",
    "for i in range(int(input())):\n",
    "    html += input().rstrip()\n",
    "    html += '\\n'\n",
    "    \n",
    "parser = MyHTMLParser()\n",
    "parser.feed(html)\n",
    "parser.close()\n"
   ]
  },
  {
   "cell_type": "markdown",
   "id": "686bf98f-af92-4c10-83aa-1d4a76920c86",
   "metadata": {},
   "source": [
    "#13 Regex and Parsing Challenges: Validating UID"
   ]
  },
  {
   "cell_type": "code",
   "execution_count": null,
   "id": "5579304f-b062-44e2-8d91-34c872562e97",
   "metadata": {},
   "outputs": [],
   "source": [
    "import re\n",
    "if __name__ == '__main__':\n",
    "    T = int(input())\n",
    "    for i in range(T):\n",
    "        UID = input().strip()\n",
    "        if ( len(UID) == 10 and UID.isalnum()== True):\n",
    "            if bool(re.search(r'(.*[A-Z]){2,}',UID)) and bool(re.search(r'(.*[0-9]){3,}',UID)):\n",
    "                if not re.search(r'.*(.).*\\1+.*',UID):\n",
    "                    print (\"Valid\")\n",
    "                else:\n",
    "                    print (\"Invalid\")   \n",
    "            else:\n",
    "                print (\"Invalid\")\n",
    "        else:\n",
    "            print (\"Invalid\")\n"
   ]
  },
  {
   "cell_type": "markdown",
   "id": "8af7ffca-3798-47c4-995f-ef68cd5c3f6e",
   "metadata": {},
   "source": [
    "#14 Regex and Parsing Challenges: Validating Credit Card Numbers"
   ]
  },
  {
   "cell_type": "code",
   "execution_count": null,
   "id": "b56b996d-0a69-4199-bb23-aecc6a80a6cf",
   "metadata": {},
   "outputs": [],
   "source": [
    "import re\n",
    "if __name__ == '__main__':\n",
    "    N = int(input())\n",
    "    for _ in range(N):\n",
    "        creditcardnum = input()\n",
    "        if re.match(r\"^[456]([\\d]{15}|[\\d]{3}(-[\\d]{4}){3})$\", creditcardnum) and not re.search(r\"([\\d])\\1\\1\\1\", creditcardnum.replace(\"-\", \"\")):\n",
    "            print(\"Valid\")\n",
    "        else:\n",
    "            print(\"Invalid\")"
   ]
  },
  {
   "cell_type": "markdown",
   "id": "3448f387-7174-429f-89b8-171d6ffd9dd9",
   "metadata": {},
   "source": [
    "#15 Regex and Parsing Challenges: Validating Phone Numbers"
   ]
  },
  {
   "cell_type": "code",
   "execution_count": null,
   "id": "60973f68-2f4e-4091-8238-8f906dd40ae1",
   "metadata": {},
   "outputs": [],
   "source": [
    "import re\n",
    "if __name__ == '__main__':\n",
    "    N = int(input())\n",
    "    if(N >= 1 and N<=10):\n",
    "        for i in range(N):\n",
    "            number = input()\n",
    "            if(len(number)>= 2 and len(number)<=15):\n",
    "                output = bool(re.match(r\"[7|8|9]{1}?[0-9]{9}\", number))\n",
    "                if (output == True and (len(number) == 10)):\n",
    "                    print(\"YES\")\n",
    "                else:\n",
    "                    print(\"NO\")"
   ]
  },
  {
   "cell_type": "markdown",
   "id": "3827ca1b-45ba-435a-8b18-32bb1ef48814",
   "metadata": {},
   "source": [
    "#16 Regex and Parsing Challenges: Validating Postal Codes"
   ]
  },
  {
   "cell_type": "code",
   "execution_count": null,
   "id": "6e208ffa-5cfd-40f4-9b09-b95a75be83f4",
   "metadata": {},
   "outputs": [],
   "source": [
    "regex_integer_in_range = r\"^[1-9][\\d]{5}$\"\n",
    "regex_alternating_repetitive_digit_pair = r\"(\\d)(?=\\d\\1)\"\n",
    "\n",
    "\n",
    "import re\n",
    "P = input()\n",
    "print (bool(re.match(regex_integer_in_range, P)) \n",
    "and len(re.findall(regex_alternating_repetitive_digit_pair, P)) < 2)"
   ]
  },
  {
   "cell_type": "markdown",
   "id": "1dc5cad5-0881-4270-94da-e68131ee48ae",
   "metadata": {},
   "source": [
    "#17 Regex and Parsing Challenges: Matrix Script"
   ]
  },
  {
   "cell_type": "code",
   "execution_count": null,
   "id": "6faa5903-47c6-43fa-b026-4994bd1e33cd",
   "metadata": {},
   "outputs": [],
   "source": [
    "import math\n",
    "import os\n",
    "import random\n",
    "import re\n",
    "import sys\n",
    "\n",
    "n,m = map(int,input().split())\n",
    "matrix = []\n",
    "for _ in range(n):\n",
    "    matrixinp = input()\n",
    "    matrix.append(matrixinp)\n",
    "string = \"\".join([matrix[i][j] for j in range(m) for i in range(n)])\n",
    "print(re.sub(r\"(?<=[a-zA-Z0-9])[^a-zA-Z0-9]+(?=[a-zA-Z0-9])\",' ',string))"
   ]
  },
  {
   "cell_type": "markdown",
   "id": "c9fbf881-6f7e-41c0-b7df-426324e2549b",
   "metadata": {},
   "source": [
    "# XML "
   ]
  },
  {
   "cell_type": "markdown",
   "id": "53486ce7-054e-4653-a87d-51a42991338b",
   "metadata": {},
   "source": [
    "#1 XML: XML 1 - Find the Score"
   ]
  },
  {
   "cell_type": "code",
   "execution_count": null,
   "id": "910ef604-c38d-4252-8200-51f69b9b2b98",
   "metadata": {},
   "outputs": [],
   "source": [
    "import sys\n",
    "import xml.etree.ElementTree as etree\n",
    "\n",
    "def get_attr_number(node):\n",
    "    return sum([len(elem.items()) for elem in tree.iter()])\n",
    "\n",
    "if __name__ == '__main__':\n",
    "    sys.stdin.readline()\n",
    "    xml = sys.stdin.read()\n",
    "    tree = etree.ElementTree(etree.fromstring(xml))\n",
    "    root = tree.getroot()\n",
    "    print(get_attr_number(root))"
   ]
  },
  {
   "cell_type": "markdown",
   "id": "556a57fc-cc38-4c7b-8d28-10228c169a28",
   "metadata": {},
   "source": [
    "#2 XML: XML 2 - Find the Maximum Depth"
   ]
  },
  {
   "cell_type": "code",
   "execution_count": null,
   "id": "42341620-d771-4dfc-9b0f-ebda946167f4",
   "metadata": {},
   "outputs": [],
   "source": [
    "import xml.etree.ElementTree as etree\n",
    "\n",
    "maxdepth = 0\n",
    "def depth(elem, level):\n",
    "    global maxdepth\n",
    "    if (level == maxdepth):\n",
    "        maxdepth += 1\n",
    "    for j in elem:\n",
    "        depth(j, level + 1)\n",
    "\n",
    "if __name__ == '__main__':\n",
    "    n = int(input())\n",
    "    xml = \"\"\n",
    "    for i in range(n):\n",
    "        xml =  xml + input() + \"\\n\"\n",
    "    tree = etree.ElementTree(etree.fromstring(xml))\n",
    "    depth(tree.getroot(), -1)\n",
    "    print(maxdepth)"
   ]
  },
  {
   "cell_type": "markdown",
   "id": "76434e3c-b993-4555-9071-611f3669c4e6",
   "metadata": {},
   "source": [
    "# Closures and Decorations"
   ]
  },
  {
   "cell_type": "markdown",
   "id": "9fbba34d-fcbe-4b21-871e-33c0622f23ae",
   "metadata": {},
   "source": [
    "#1 Closures and Decorations: Standardize Mobile Number Using Decorators"
   ]
  },
  {
   "cell_type": "code",
   "execution_count": null,
   "id": "6ae3b89b-7cb5-437c-b37f-05931abecc2a",
   "metadata": {},
   "outputs": [],
   "source": [
    "def wrapper(f):\n",
    "    def fun(l):\n",
    "        f(['+91 ' + i[-10:-5] + ' ' + i[-5:] for i in l])\n",
    "    return fun\n",
    "\n",
    "@wrapper\n",
    "def sort_phone(l):\n",
    "    print(*sorted(l), sep='\\n')\n",
    "\n",
    "if __name__ == '__main__':\n",
    "    l = [input() for _ in range(int(input()))]\n",
    "    sort_phone(l) "
   ]
  },
  {
   "cell_type": "markdown",
   "id": "570040a1-40e8-4ad9-8d23-270e9a70a8c2",
   "metadata": {},
   "source": [
    "#2 Closures and Decorations: Decorators 2 - Name Directory"
   ]
  },
  {
   "cell_type": "code",
   "execution_count": null,
   "id": "9c7526eb-5653-4694-8f24-3bd4e2a7769a",
   "metadata": {},
   "outputs": [],
   "source": [
    "import operator\n",
    "\n",
    "def person_lister(f):\n",
    "    def inner(people):\n",
    "        return map(f, sorted(people, key=lambda x: int(x[2])))\n",
    "    return inner\n",
    "\n",
    "@person_lister\n",
    "def name_format(person):\n",
    "    return (\"Mr. \" if person[3] == \"M\" else \"Ms. \") + person[0] + \" \" + person[1]\n",
    "\n",
    "if __name__ == '__main__':\n",
    "    people = [input().split() for i in range(int(input()))]\n",
    "    print(*name_format(people), sep='\\n')"
   ]
  },
  {
   "cell_type": "markdown",
   "id": "7c16188f-e61f-4eb8-ae90-03d1042d7f2d",
   "metadata": {},
   "source": [
    "# Numpy"
   ]
  },
  {
   "cell_type": "markdown",
   "id": "fc4a7b55-7c29-4ee4-9221-f2a001bfbe5a",
   "metadata": {},
   "source": [
    "#1 Numpy: Arrays"
   ]
  },
  {
   "cell_type": "code",
   "execution_count": null,
   "id": "6d82a119-f42f-4c82-8978-0931c85a1c66",
   "metadata": {},
   "outputs": [],
   "source": [
    "import numpy\n",
    "\n",
    "def arrays(arr):\n",
    "    arr = numpy.array(arr, float)\n",
    "    reversedarr = numpy.flipud(arr)\n",
    "    return(reversedarr)\n",
    "\n",
    "arr = input().strip().split(' ')\n",
    "result = arrays(arr)\n",
    "print(result)"
   ]
  },
  {
   "cell_type": "markdown",
   "id": "0129a358-306e-40de-8362-00cc9b8c059f",
   "metadata": {},
   "source": [
    "#2 Numpy: Shape and Reshape"
   ]
  },
  {
   "cell_type": "code",
   "execution_count": null,
   "id": "4169fb5c-0737-4f1c-82d2-b53dd3072983",
   "metadata": {},
   "outputs": [],
   "source": [
    "import numpy\n",
    "if __name__ == '__main__':\n",
    "    line = input().split(\" \")\n",
    "    line = numpy.array(line, int)\n",
    "    print (numpy.reshape(line, (3,3)))"
   ]
  },
  {
   "cell_type": "markdown",
   "id": "da7bfd3d-0c60-4afb-b8d1-fea1ee3a290b",
   "metadata": {},
   "source": [
    "#3 Numpy: Transpose and Flatten"
   ]
  },
  {
   "cell_type": "code",
   "execution_count": null,
   "id": "8b9492d9-ae9b-48b4-a9c4-0f747e9e3f3e",
   "metadata": {},
   "outputs": [],
   "source": [
    "import numpy\n",
    "if __name__ == '__main__':\n",
    "    N, M = map(int,input().split())\n",
    "    arr = ([input().strip().split() for _ in range(N)])\n",
    "    arr = numpy.array(arr, int)\n",
    "    print(arr.transpose())\n",
    "    print(arr.flatten())"
   ]
  },
  {
   "cell_type": "markdown",
   "id": "653a45fc-9a64-422e-846d-89a131228f52",
   "metadata": {},
   "source": [
    "#4 Numpy: Concatenate"
   ]
  },
  {
   "cell_type": "code",
   "execution_count": null,
   "id": "00e7e359-3878-4588-bdbe-cdeb9a3b4978",
   "metadata": {},
   "outputs": [],
   "source": [
    "import numpy\n",
    "if __name__ == '__main__':\n",
    "    N,M,P = map(int,input().split())\n",
    "    array1 = ([input().strip().split() for _ in range(N)])\n",
    "    array2 = ([input().strip().split() for _ in range(M)])\n",
    "    array1 = numpy.array(array1, int)\n",
    "    array2 = numpy.array(array2,int)\n",
    "    print(numpy.concatenate((array1,array2), axis = 0))"
   ]
  },
  {
   "cell_type": "markdown",
   "id": "a59545bc-1847-4497-8a1b-4339bd94b333",
   "metadata": {},
   "source": [
    "#5 Numpy: Zeros and Ones"
   ]
  },
  {
   "cell_type": "code",
   "execution_count": null,
   "id": "e1551d13-3482-4911-a70f-8de5a0c41e86",
   "metadata": {},
   "outputs": [],
   "source": [
    "import numpy\n",
    "if __name__ == '__main__':\n",
    "    shape = tuple(map(int, input().split()))\n",
    "    print(numpy.zeros(shape,int))\n",
    "    print(numpy.ones(shape,int))"
   ]
  },
  {
   "cell_type": "markdown",
   "id": "f4aa6311-9bb9-46cc-917b-74e1dc278722",
   "metadata": {},
   "source": [
    "#6 Numpy: Eye and Identity"
   ]
  },
  {
   "cell_type": "code",
   "execution_count": null,
   "id": "f0e8bf1c-5ea0-46b2-9147-0ea92c383ec8",
   "metadata": {},
   "outputs": [],
   "source": [
    "import numpy\n",
    "if __name__ == '__main__':\n",
    "    N,M = map(int,input().split())\n",
    "    numpy.set_printoptions(sign=' ')\n",
    "    print(numpy.eye(N,M))"
   ]
  },
  {
   "cell_type": "markdown",
   "id": "9f8f08e2-6068-421a-b013-87a086178d7d",
   "metadata": {},
   "source": [
    "#7 Numpy: Array Mathematics"
   ]
  },
  {
   "cell_type": "code",
   "execution_count": null,
   "id": "d08cb75a-10a7-490d-91b4-3f0ec0a54c8e",
   "metadata": {},
   "outputs": [],
   "source": [
    "import numpy\n",
    "if __name__ == '__main__':\n",
    "    N,M = map(int,input().split())\n",
    "    A = [input().split() for i in range(N)]\n",
    "    B = [input().split() for i in range(N)]\n",
    "    A = numpy.array(A,int)\n",
    "    B = numpy.array(B,int)\n",
    "    print(numpy.add(A,B))\n",
    "    print(numpy.subtract(A,B))\n",
    "    print(numpy.multiply(A,B))\n",
    "    print(numpy.floor_divide(A,B))\n",
    "    print(numpy.mod(A,B))\n",
    "    print(numpy.power(A,B))"
   ]
  },
  {
   "cell_type": "markdown",
   "id": "5348b1a0-9faf-4560-8553-9f74032222c9",
   "metadata": {},
   "source": [
    "#8 Numpy: Floor, Ceil and Rint"
   ]
  },
  {
   "cell_type": "code",
   "execution_count": null,
   "id": "256914af-135c-45a4-87f4-919c68d96b18",
   "metadata": {},
   "outputs": [],
   "source": [
    "import numpy\n",
    "if __name__ == '__main__':\n",
    "    A = input().split()\n",
    "    A = numpy.array(A, float)\n",
    "    numpy.set_printoptions(sign=' ')\n",
    "    print(numpy.floor(A))\n",
    "    print(numpy.ceil(A))\n",
    "    print(numpy.rint(A))"
   ]
  },
  {
   "cell_type": "markdown",
   "id": "88658a0e-5a91-4cd7-86c1-35bfd71921d4",
   "metadata": {},
   "source": [
    "#9 Numpy: Sum and Prod"
   ]
  },
  {
   "cell_type": "code",
   "execution_count": null,
   "id": "b82cbb14-778a-4c0f-93e0-b2f403298174",
   "metadata": {},
   "outputs": [],
   "source": [
    "import numpy\n",
    "if __name__ == '__main__':\n",
    "    N,M = map(int, input().split())\n",
    "    A = [input().split() for i in range(N)]\n",
    "    A = numpy.array(A,int)\n",
    "    mysum = numpy.sum(A, axis = 0)\n",
    "    myprod = numpy.prod(mysum, axis = None)\n",
    "    print(myprod)"
   ]
  },
  {
   "cell_type": "markdown",
   "id": "bed77ad9-cb60-4663-8b94-74c216aab9cc",
   "metadata": {},
   "source": [
    "#10 Numpy: Min and Max "
   ]
  },
  {
   "cell_type": "code",
   "execution_count": null,
   "id": "e483553f-2268-42bb-b4dc-95e2f972d413",
   "metadata": {},
   "outputs": [],
   "source": [
    "import numpy\n",
    "if __name__ == '__main__':\n",
    "    N,M = map(int, input().split())\n",
    "    myarray = [input().split() for i in range(N)]\n",
    "    myarray = numpy.array(myarray, int)\n",
    "    mymin = numpy.min(myarray, axis = 1)\n",
    "    print( numpy.max(mymin))"
   ]
  },
  {
   "cell_type": "markdown",
   "id": "428d1d1c-de74-4d2b-9031-964cbcf1a7e3",
   "metadata": {},
   "source": [
    "#11 Numpy: Mean, Var, and Std"
   ]
  },
  {
   "cell_type": "code",
   "execution_count": null,
   "id": "2403f8da-2420-4b2e-816a-0db9195102ac",
   "metadata": {},
   "outputs": [],
   "source": [
    "import numpy\n",
    "if __name__ == '__main__':\n",
    "    N,M = map(int, input().split())\n",
    "    myarray = [input().split() for i in range(N)]\n",
    "    myarray = numpy.array(myarray, float)\n",
    "    print(numpy.mean(myarray, axis = 1))\n",
    "    print(numpy.var(myarray, axis = 0))\n",
    "    mystd = (numpy.std(myarray, axis = None))\n",
    "    print(round(mystd, 11))"
   ]
  },
  {
   "cell_type": "markdown",
   "id": "419c2db9-ce6c-4a80-9a67-7d4555c0a625",
   "metadata": {},
   "source": [
    "#12 Numpy: Dot and Cross"
   ]
  },
  {
   "cell_type": "code",
   "execution_count": null,
   "id": "5b35ac12-a556-4e8b-bef0-a50cdd653bc6",
   "metadata": {},
   "outputs": [],
   "source": [
    "import numpy\n",
    "if __name__ == '__main__':\n",
    "    N = int(input())\n",
    "    A = [input().split() for i in range(N)]\n",
    "    B = [input().split() for i in range(N)]\n",
    "    A = numpy.array(A, int)\n",
    "    B = numpy.array(B, int)\n",
    "    print(numpy.dot(A,B))"
   ]
  },
  {
   "cell_type": "markdown",
   "id": "69e03259-28ab-445e-910e-23ec2abc0e20",
   "metadata": {},
   "source": [
    "#13 Numpy: Inner and Outer"
   ]
  },
  {
   "cell_type": "code",
   "execution_count": null,
   "id": "46362ae4-fa80-4c85-b85e-0223bf0ea408",
   "metadata": {},
   "outputs": [],
   "source": [
    "import numpy\n",
    "if __name__ == '__main__':\n",
    "    A = input().split()\n",
    "    B = input().split()\n",
    "    A = numpy.array(A, int)\n",
    "    B = numpy.array(B, int)\n",
    "    print(numpy.inner(A,B))\n",
    "    print(numpy.outer(A,B))"
   ]
  },
  {
   "cell_type": "markdown",
   "id": "ec922f70-bed8-4632-a732-f53a6043167e",
   "metadata": {},
   "source": [
    "#14 Numpy: Polynomials"
   ]
  },
  {
   "cell_type": "code",
   "execution_count": null,
   "id": "b39432f6-b3bd-4a43-8e81-70e973ea408a",
   "metadata": {},
   "outputs": [],
   "source": [
    "import numpy\n",
    "if __name__ == '__main__':\n",
    "    P = [float(x) for x in input().split()]\n",
    "    x = float(input())\n",
    "    print(numpy.polyval(P, x))"
   ]
  },
  {
   "cell_type": "markdown",
   "id": "8d11530e-970e-4743-855e-a6d601b3481a",
   "metadata": {},
   "source": [
    "#15 Numpy: Linear Algebra"
   ]
  },
  {
   "cell_type": "code",
   "execution_count": null,
   "id": "5c43e576-d4ee-4a67-bae6-33fca60c16f7",
   "metadata": {},
   "outputs": [],
   "source": [
    "import numpy\n",
    "if __name__ == '__main__':\n",
    "    N = int(input())\n",
    "    A = [input().split() for i in range(N)]\n",
    "    A = numpy.array(A, float)\n",
    "    mydet = numpy.linalg.det(A)\n",
    "    print(round(mydet, 2))"
   ]
  },
  {
   "cell_type": "markdown",
   "id": "332be0a7",
   "metadata": {},
   "source": [
    "# Birthday Cake Candles"
   ]
  },
  {
   "cell_type": "code",
   "execution_count": null,
   "id": "3b40b68b",
   "metadata": {},
   "outputs": [],
   "source": [
    "import math\n",
    "import os\n",
    "import random\n",
    "import re\n",
    "import sys\n",
    "\n",
    "\n",
    "def birthdayCakeCandles(candles):\n",
    "    candles = sorted(candles, reverse = True)\n",
    "    taller = candles[0]\n",
    "    ncandles = candles.count(taller)\n",
    "    return ncandles\n",
    "\n",
    "if __name__ == '__main__':\n",
    "    fptr = sys.stdout\n",
    "\n",
    "    candles_count = int(input().strip())\n",
    "\n",
    "    candles = list(map(int, input().rstrip().split()))\n",
    "\n",
    "    result = birthdayCakeCandles(candles)\n",
    "\n",
    "    fptr.write(str(result) + '\\n')\n",
    "\n",
    "    fptr.close()\n"
   ]
  },
  {
   "cell_type": "markdown",
   "id": "cdd6e736",
   "metadata": {},
   "source": [
    "# Number Line Jumps"
   ]
  },
  {
   "cell_type": "code",
   "execution_count": null,
   "id": "f61a6a05",
   "metadata": {},
   "outputs": [],
   "source": [
    "import math\n",
    "import os\n",
    "import random\n",
    "import re\n",
    "import sys\n",
    "\n",
    "def kangaroo(x1, v1, x2, v2):\n",
    "    if (x1 < x2 and v1 < v2):\n",
    "        return \"NO\"\n",
    "    else:\n",
    "        if (v1!=v2 and (x2-x1)%(v2-v1)==0):\n",
    "            return \"YES\"\n",
    "        else:\n",
    "            return \"NO\"\n",
    "\n",
    "if __name__ == '__main__':\n",
    "    fptr = sys.stdout\n",
    "\n",
    "    first_multiple_input = input().rstrip().split()\n",
    "\n",
    "    x1 = int(first_multiple_input[0])\n",
    "\n",
    "    v1 = int(first_multiple_input[1])\n",
    "\n",
    "    x2 = int(first_multiple_input[2])\n",
    "\n",
    "    v2 = int(first_multiple_input[3])\n",
    "\n",
    "    result = kangaroo(x1, v1, x2, v2)\n",
    "\n",
    "    fptr.write(result + '\\n')\n",
    "\n",
    "    fptr.close()"
   ]
  },
  {
   "cell_type": "markdown",
   "id": "f54b097d",
   "metadata": {},
   "source": [
    "# Viral Advertising"
   ]
  },
  {
   "cell_type": "code",
   "execution_count": null,
   "id": "d958bca6",
   "metadata": {},
   "outputs": [],
   "source": [
    "import math\n",
    "import os\n",
    "import random\n",
    "import re\n",
    "import sys\n",
    "\n",
    "\n",
    "def viralAdvertising(n):\n",
    "    shared = 5\n",
    "    cumulative = 0\n",
    "    for i in range(n):\n",
    "        liked = (shared//2)\n",
    "        cumulative += liked\n",
    "        shared = 3*liked\n",
    "    return (cumulative)\n",
    "        \n",
    "\n",
    "if __name__ == '__main__':\n",
    "    fptr = sys.stdout\n",
    "\n",
    "    n = int(input().strip())\n",
    "\n",
    "    result = viralAdvertising(n)\n",
    "\n",
    "    fptr.write(str(result) + '\\n')\n",
    "\n",
    "    fptr.close()"
   ]
  },
  {
   "cell_type": "markdown",
   "id": "5c21fd5e",
   "metadata": {},
   "source": [
    "# Recursive Digit Sum"
   ]
  },
  {
   "cell_type": "code",
   "execution_count": null,
   "id": "3c1fe31b",
   "metadata": {},
   "outputs": [],
   "source": [
    "import math\n",
    "import os\n",
    "import random\n",
    "import re\n",
    "import sys\n",
    "\n",
    "def superDigit(n, k):\n",
    "    result = (int(n)*k) % 9\n",
    "    return result or 9 \n",
    "\n",
    "\n",
    "if __name__ == '__main__':\n",
    "    fptr = sys.stdout\n",
    "\n",
    "    first_multiple_input = input().rstrip().split()\n",
    "\n",
    "    n = first_multiple_input[0]\n",
    "\n",
    "    k = int(first_multiple_input[1])\n",
    "\n",
    "    result = superDigit(n, k)\n",
    "\n",
    "    fptr.write(str(result) + '\\n')\n",
    "\n",
    "    fptr.close()\n"
   ]
  },
  {
   "cell_type": "markdown",
   "id": "3fa9b287",
   "metadata": {},
   "source": [
    "# Insertion Sort - Part 1"
   ]
  },
  {
   "cell_type": "code",
   "execution_count": null,
   "id": "9a079183",
   "metadata": {},
   "outputs": [],
   "source": [
    "import math\n",
    "import os\n",
    "import random\n",
    "import re\n",
    "import sys\n",
    "\n",
    "\n",
    "def insertionSort1(n, arr):\n",
    "    for i in range (n):\n",
    "        x = arr[i]\n",
    "        pos = i \n",
    "        while (pos > 0 and x < arr[pos-1]):\n",
    "            arr[pos] = arr[pos-1]\n",
    "            pos = pos-1\n",
    "            print(*arr, sep = \" \")\n",
    "        arr[pos] = x\n",
    "    print(*arr, sep = \" \")\n",
    "        \n",
    "    \n",
    "\n",
    "if __name__ == '__main__':\n",
    "    n = int(input().strip())\n",
    "\n",
    "    arr = list(map(int, input().rstrip().split()))\n",
    "\n",
    "    insertionSort1(n, arr)"
   ]
  },
  {
   "cell_type": "markdown",
   "id": "4ff3dfb9",
   "metadata": {},
   "source": [
    "# Insertion Sort - Part 2 "
   ]
  },
  {
   "cell_type": "code",
   "execution_count": null,
   "id": "4f5fdaca",
   "metadata": {},
   "outputs": [],
   "source": [
    "import sys\n",
    "\n",
    "def insertionSort2(n, arr):\n",
    "    n = len(arr)\n",
    "    for i in range(1,n):\n",
    "        val = arr[i]\n",
    "        pos = i\n",
    "        while pos > 0 and val < arr[pos - 1]:\n",
    "            arr[pos] = arr[pos - 1]\n",
    "            pos -= 1\n",
    "        arr[pos] = val\n",
    "        print(*arr, sep= ' ')\n",
    "\n",
    "if __name__ == '__main__':\n",
    "    n = int(input().strip())\n",
    "\n",
    "    arr = list(map(int, input().rstrip().split()))\n",
    "\n",
    "    insertionSort2(n, arr)\n"
   ]
  }
 ],
 "metadata": {
  "kernelspec": {
   "display_name": "Python 3",
   "language": "python",
   "name": "python3"
  },
  "language_info": {
   "codemirror_mode": {
    "name": "ipython",
    "version": 3
   },
   "file_extension": ".py",
   "mimetype": "text/x-python",
   "name": "python",
   "nbconvert_exporter": "python",
   "pygments_lexer": "ipython3",
   "version": "3.8.8"
  }
 },
 "nbformat": 4,
 "nbformat_minor": 5
}
